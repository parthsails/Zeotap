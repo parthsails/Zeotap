{
 "cells": [
  {
   "cell_type": "code",
   "execution_count": 1,
   "id": "162d4e89-db2a-4042-ab62-5ac95715e0e9",
   "metadata": {},
   "outputs": [],
   "source": [
    "import pandas as pd\n",
    "import matplotlib.pyplot as plt\n",
    "import seaborn as sns"
   ]
  },
  {
   "cell_type": "code",
   "execution_count": 3,
   "id": "cd865515-a99d-4e50-8508-5a11ca9d3bbc",
   "metadata": {},
   "outputs": [],
   "source": [
    "Transactions_df = pd.read_csv('Transactions.csv')"
   ]
  },
  {
   "cell_type": "code",
   "execution_count": 5,
   "id": "eada9054-308e-492c-b24e-8350bd66dab6",
   "metadata": {},
   "outputs": [
    {
     "data": {
      "text/html": [
       "<div>\n",
       "<style scoped>\n",
       "    .dataframe tbody tr th:only-of-type {\n",
       "        vertical-align: middle;\n",
       "    }\n",
       "\n",
       "    .dataframe tbody tr th {\n",
       "        vertical-align: top;\n",
       "    }\n",
       "\n",
       "    .dataframe thead th {\n",
       "        text-align: right;\n",
       "    }\n",
       "</style>\n",
       "<table border=\"1\" class=\"dataframe\">\n",
       "  <thead>\n",
       "    <tr style=\"text-align: right;\">\n",
       "      <th></th>\n",
       "      <th>TransactionID</th>\n",
       "      <th>CustomerID</th>\n",
       "      <th>ProductID</th>\n",
       "      <th>TransactionDate</th>\n",
       "      <th>Quantity</th>\n",
       "      <th>TotalValue</th>\n",
       "      <th>Price</th>\n",
       "    </tr>\n",
       "  </thead>\n",
       "  <tbody>\n",
       "    <tr>\n",
       "      <th>0</th>\n",
       "      <td>T00001</td>\n",
       "      <td>C0199</td>\n",
       "      <td>P067</td>\n",
       "      <td>2024-08-25 12:38:23</td>\n",
       "      <td>1</td>\n",
       "      <td>300.68</td>\n",
       "      <td>300.68</td>\n",
       "    </tr>\n",
       "    <tr>\n",
       "      <th>1</th>\n",
       "      <td>T00112</td>\n",
       "      <td>C0146</td>\n",
       "      <td>P067</td>\n",
       "      <td>2024-05-27 22:23:54</td>\n",
       "      <td>1</td>\n",
       "      <td>300.68</td>\n",
       "      <td>300.68</td>\n",
       "    </tr>\n",
       "    <tr>\n",
       "      <th>2</th>\n",
       "      <td>T00166</td>\n",
       "      <td>C0127</td>\n",
       "      <td>P067</td>\n",
       "      <td>2024-04-25 07:38:55</td>\n",
       "      <td>1</td>\n",
       "      <td>300.68</td>\n",
       "      <td>300.68</td>\n",
       "    </tr>\n",
       "    <tr>\n",
       "      <th>3</th>\n",
       "      <td>T00272</td>\n",
       "      <td>C0087</td>\n",
       "      <td>P067</td>\n",
       "      <td>2024-03-26 22:55:37</td>\n",
       "      <td>2</td>\n",
       "      <td>601.36</td>\n",
       "      <td>300.68</td>\n",
       "    </tr>\n",
       "    <tr>\n",
       "      <th>4</th>\n",
       "      <td>T00363</td>\n",
       "      <td>C0070</td>\n",
       "      <td>P067</td>\n",
       "      <td>2024-03-21 15:10:10</td>\n",
       "      <td>3</td>\n",
       "      <td>902.04</td>\n",
       "      <td>300.68</td>\n",
       "    </tr>\n",
       "  </tbody>\n",
       "</table>\n",
       "</div>"
      ],
      "text/plain": [
       "  TransactionID CustomerID ProductID      TransactionDate  Quantity  \\\n",
       "0        T00001      C0199      P067  2024-08-25 12:38:23         1   \n",
       "1        T00112      C0146      P067  2024-05-27 22:23:54         1   \n",
       "2        T00166      C0127      P067  2024-04-25 07:38:55         1   \n",
       "3        T00272      C0087      P067  2024-03-26 22:55:37         2   \n",
       "4        T00363      C0070      P067  2024-03-21 15:10:10         3   \n",
       "\n",
       "   TotalValue   Price  \n",
       "0      300.68  300.68  \n",
       "1      300.68  300.68  \n",
       "2      300.68  300.68  \n",
       "3      601.36  300.68  \n",
       "4      902.04  300.68  "
      ]
     },
     "execution_count": 5,
     "metadata": {},
     "output_type": "execute_result"
    }
   ],
   "source": [
    "Transactions_df.head()"
   ]
  },
  {
   "cell_type": "code",
   "execution_count": 7,
   "id": "94154226-2468-460c-bf78-9147e790ae22",
   "metadata": {},
   "outputs": [],
   "source": [
    "Customers_df = pd.read_csv('Customers.csv')\n",
    "Products_df = pd.read_csv('Products.csv')"
   ]
  },
  {
   "cell_type": "code",
   "execution_count": 11,
   "id": "c35b34ec-dbe6-4ce6-a769-83c1653f1881",
   "metadata": {},
   "outputs": [
    {
     "data": {
      "text/html": [
       "<div>\n",
       "<style scoped>\n",
       "    .dataframe tbody tr th:only-of-type {\n",
       "        vertical-align: middle;\n",
       "    }\n",
       "\n",
       "    .dataframe tbody tr th {\n",
       "        vertical-align: top;\n",
       "    }\n",
       "\n",
       "    .dataframe thead th {\n",
       "        text-align: right;\n",
       "    }\n",
       "</style>\n",
       "<table border=\"1\" class=\"dataframe\">\n",
       "  <thead>\n",
       "    <tr style=\"text-align: right;\">\n",
       "      <th></th>\n",
       "      <th>CustomerID</th>\n",
       "      <th>CustomerName</th>\n",
       "      <th>Region</th>\n",
       "      <th>SignupDate</th>\n",
       "    </tr>\n",
       "  </thead>\n",
       "  <tbody>\n",
       "    <tr>\n",
       "      <th>195</th>\n",
       "      <td>C0196</td>\n",
       "      <td>Laura Watts</td>\n",
       "      <td>Europe</td>\n",
       "      <td>2022-06-07</td>\n",
       "    </tr>\n",
       "    <tr>\n",
       "      <th>196</th>\n",
       "      <td>C0197</td>\n",
       "      <td>Christina Harvey</td>\n",
       "      <td>Europe</td>\n",
       "      <td>2023-03-21</td>\n",
       "    </tr>\n",
       "    <tr>\n",
       "      <th>197</th>\n",
       "      <td>C0198</td>\n",
       "      <td>Rebecca Ray</td>\n",
       "      <td>Europe</td>\n",
       "      <td>2022-02-27</td>\n",
       "    </tr>\n",
       "    <tr>\n",
       "      <th>198</th>\n",
       "      <td>C0199</td>\n",
       "      <td>Andrea Jenkins</td>\n",
       "      <td>Europe</td>\n",
       "      <td>2022-12-03</td>\n",
       "    </tr>\n",
       "    <tr>\n",
       "      <th>199</th>\n",
       "      <td>C0200</td>\n",
       "      <td>Kelly Cross</td>\n",
       "      <td>Asia</td>\n",
       "      <td>2023-06-11</td>\n",
       "    </tr>\n",
       "  </tbody>\n",
       "</table>\n",
       "</div>"
      ],
      "text/plain": [
       "    CustomerID      CustomerName  Region  SignupDate\n",
       "195      C0196       Laura Watts  Europe  2022-06-07\n",
       "196      C0197  Christina Harvey  Europe  2023-03-21\n",
       "197      C0198       Rebecca Ray  Europe  2022-02-27\n",
       "198      C0199    Andrea Jenkins  Europe  2022-12-03\n",
       "199      C0200       Kelly Cross    Asia  2023-06-11"
      ]
     },
     "execution_count": 11,
     "metadata": {},
     "output_type": "execute_result"
    }
   ],
   "source": [
    "Customers_df.tail()"
   ]
  },
  {
   "cell_type": "code",
   "execution_count": 13,
   "id": "8f842a6f-3b97-450a-8b28-aa234d0f4466",
   "metadata": {},
   "outputs": [],
   "source": [
    "Transactions_df.columns = Transactions_df.columns.str.strip().str.replace('ï»¿', '')"
   ]
  },
  {
   "cell_type": "code",
   "execution_count": null,
   "id": "601c7c94-2c58-4e1b-9a38-30104a8c0411",
   "metadata": {},
   "outputs": [],
   "source": [
    "from sklearn.metrics.pairwise import cosine_similarity\n",
    "from sklearn.preprocessing import StandardScaler, OneHotEncoder\n",
    "\n",
    "merged_df = transactions_df.merge(customers_df, on=\"CustomerID\", how=\"left\").merge(products_df, on=\"ProductID\", how=\"left\")\n",
    "\n",
    "# Aggregate customer transaction data\n",
    "customer_features = merged_df.groupby('CustomerID').agg({\n",
    "    'TotalValue': 'sum',\n",
    "    'Quantity': 'sum',\n",
    "    'Price': 'mean'\n",
    "}).reset_index()\n",
    "\n",
    "# Merge customer profile data\n",
    "customer_data = customers_df.merge(customer_features, on=\"CustomerID\", how=\"left\").fillna(0)\n",
    "\n",
    "# Encode categorical features\n",
    "encoder = OneHotEncoder(sparse=False, drop='first')\n",
    "encoded_region = encoder.fit_transform(customer_data[['Region']])\n",
    "\n",
    "# Normalize numerical features\n",
    "scaler = StandardScaler()\n",
    "numerical_features = scaler.fit_transform(customer_data[['TotalValue', 'Quantity', 'Price']])\n",
    "\n",
    "# Combine encoded and numerical features\n",
    "final_features = pd.concat([\n",
    "    pd.DataFrame(encoded_region, columns=encoder.get_feature_names_out(['Region'])),\n",
    "    pd.DataFrame(numerical_features, columns=['TotalValue', 'Quantity', 'Price'])\n",
    "], axis=1)\n",
    "\n",
    "# Compute cosine similarity\n",
    "similarity_matrix = cosine_similarity(final_features)\n",
    "\n",
    "# Create a DataFrame for similarity\n",
    "similarity_df = pd.DataFrame(similarity_matrix, index=customer_data['CustomerID'], columns=customer_data['CustomerID'])\n",
    "\n",
    "# Get top 3 similar customers for the first 20 customers\n",
    "lookalikes = {}\n",
    "for customer in customer_data['CustomerID'][:20]:\n",
    "    similar_customers = similarity_df[customer].sort_values(ascending=False).iloc[1:4]\n",
    "    lookalikes[customer] = [(sim_cust, round(score, 4)) for sim_cust, score in similar_customers.items()]\n",
    "\n",
    "# Convert to the required format\n",
    "lookalike_list = [{'cust_id': cust, 'lookalikes': lookalikes[cust]} for cust in lookalikes]\n",
    "lookalike_df = pd.DataFrame(lookalike_list)\n",
    "\n",
    "# Save as Lookalike.csv\n",
    "lookalike_df.to_csv('Lookalike.csv', index=False)\n",
    "\n",
    "print(\"Lookalike model results saved to 'Lookalike.csv'.\")\n"
   ]
  },
  {
   "cell_type": "code",
   "execution_count": 33,
   "id": "5751313b-c1c0-4adf-8e44-57788a38c231",
   "metadata": {},
   "outputs": [],
   "source": [
    "merged_df = Transactions_df.merge(Customers_df, on=\"CustomerID\", how=\"left\").merge(Products_df, on=\"ProductID\", how=\"left\")"
   ]
  },
  {
   "cell_type": "code",
   "execution_count": 35,
   "id": "7651db07-f25a-42cd-8514-cfdae92d83de",
   "metadata": {},
   "outputs": [],
   "source": [
    "merged_df['Price'] = merged_df['Price_x'].combine_first(merged_df['Price_y'])"
   ]
  },
  {
   "cell_type": "code",
   "execution_count": 37,
   "id": "4e879920-f5ba-4063-b25c-9d18937e1a43",
   "metadata": {},
   "outputs": [
    {
     "data": {
      "text/html": [
       "<div>\n",
       "<style scoped>\n",
       "    .dataframe tbody tr th:only-of-type {\n",
       "        vertical-align: middle;\n",
       "    }\n",
       "\n",
       "    .dataframe tbody tr th {\n",
       "        vertical-align: top;\n",
       "    }\n",
       "\n",
       "    .dataframe thead th {\n",
       "        text-align: right;\n",
       "    }\n",
       "</style>\n",
       "<table border=\"1\" class=\"dataframe\">\n",
       "  <thead>\n",
       "    <tr style=\"text-align: right;\">\n",
       "      <th></th>\n",
       "      <th>TransactionID</th>\n",
       "      <th>CustomerID</th>\n",
       "      <th>ProductID</th>\n",
       "      <th>TransactionDate</th>\n",
       "      <th>Quantity</th>\n",
       "      <th>TotalValue</th>\n",
       "      <th>CustomerName</th>\n",
       "      <th>Region</th>\n",
       "      <th>SignupDate</th>\n",
       "      <th>ProductName</th>\n",
       "      <th>Category</th>\n",
       "      <th>Price</th>\n",
       "    </tr>\n",
       "  </thead>\n",
       "  <tbody>\n",
       "    <tr>\n",
       "      <th>0</th>\n",
       "      <td>T00001</td>\n",
       "      <td>C0199</td>\n",
       "      <td>P067</td>\n",
       "      <td>2024-08-25 12:38:23</td>\n",
       "      <td>1</td>\n",
       "      <td>300.68</td>\n",
       "      <td>Andrea Jenkins</td>\n",
       "      <td>Europe</td>\n",
       "      <td>2022-12-03</td>\n",
       "      <td>ComfortLiving Bluetooth Speaker</td>\n",
       "      <td>Electronics</td>\n",
       "      <td>300.68</td>\n",
       "    </tr>\n",
       "    <tr>\n",
       "      <th>1</th>\n",
       "      <td>T00112</td>\n",
       "      <td>C0146</td>\n",
       "      <td>P067</td>\n",
       "      <td>2024-05-27 22:23:54</td>\n",
       "      <td>1</td>\n",
       "      <td>300.68</td>\n",
       "      <td>Brittany Harvey</td>\n",
       "      <td>Asia</td>\n",
       "      <td>2024-09-04</td>\n",
       "      <td>ComfortLiving Bluetooth Speaker</td>\n",
       "      <td>Electronics</td>\n",
       "      <td>300.68</td>\n",
       "    </tr>\n",
       "    <tr>\n",
       "      <th>2</th>\n",
       "      <td>T00166</td>\n",
       "      <td>C0127</td>\n",
       "      <td>P067</td>\n",
       "      <td>2024-04-25 07:38:55</td>\n",
       "      <td>1</td>\n",
       "      <td>300.68</td>\n",
       "      <td>Kathryn Stevens</td>\n",
       "      <td>Europe</td>\n",
       "      <td>2024-04-04</td>\n",
       "      <td>ComfortLiving Bluetooth Speaker</td>\n",
       "      <td>Electronics</td>\n",
       "      <td>300.68</td>\n",
       "    </tr>\n",
       "    <tr>\n",
       "      <th>3</th>\n",
       "      <td>T00272</td>\n",
       "      <td>C0087</td>\n",
       "      <td>P067</td>\n",
       "      <td>2024-03-26 22:55:37</td>\n",
       "      <td>2</td>\n",
       "      <td>601.36</td>\n",
       "      <td>Travis Campbell</td>\n",
       "      <td>South America</td>\n",
       "      <td>2024-04-11</td>\n",
       "      <td>ComfortLiving Bluetooth Speaker</td>\n",
       "      <td>Electronics</td>\n",
       "      <td>300.68</td>\n",
       "    </tr>\n",
       "    <tr>\n",
       "      <th>4</th>\n",
       "      <td>T00363</td>\n",
       "      <td>C0070</td>\n",
       "      <td>P067</td>\n",
       "      <td>2024-03-21 15:10:10</td>\n",
       "      <td>3</td>\n",
       "      <td>902.04</td>\n",
       "      <td>Timothy Perez</td>\n",
       "      <td>Europe</td>\n",
       "      <td>2022-03-15</td>\n",
       "      <td>ComfortLiving Bluetooth Speaker</td>\n",
       "      <td>Electronics</td>\n",
       "      <td>300.68</td>\n",
       "    </tr>\n",
       "  </tbody>\n",
       "</table>\n",
       "</div>"
      ],
      "text/plain": [
       "  TransactionID CustomerID ProductID      TransactionDate  Quantity  \\\n",
       "0        T00001      C0199      P067  2024-08-25 12:38:23         1   \n",
       "1        T00112      C0146      P067  2024-05-27 22:23:54         1   \n",
       "2        T00166      C0127      P067  2024-04-25 07:38:55         1   \n",
       "3        T00272      C0087      P067  2024-03-26 22:55:37         2   \n",
       "4        T00363      C0070      P067  2024-03-21 15:10:10         3   \n",
       "\n",
       "   TotalValue     CustomerName         Region  SignupDate  \\\n",
       "0      300.68   Andrea Jenkins         Europe  2022-12-03   \n",
       "1      300.68  Brittany Harvey           Asia  2024-09-04   \n",
       "2      300.68  Kathryn Stevens         Europe  2024-04-04   \n",
       "3      601.36  Travis Campbell  South America  2024-04-11   \n",
       "4      902.04    Timothy Perez         Europe  2022-03-15   \n",
       "\n",
       "                       ProductName     Category   Price  \n",
       "0  ComfortLiving Bluetooth Speaker  Electronics  300.68  \n",
       "1  ComfortLiving Bluetooth Speaker  Electronics  300.68  \n",
       "2  ComfortLiving Bluetooth Speaker  Electronics  300.68  \n",
       "3  ComfortLiving Bluetooth Speaker  Electronics  300.68  \n",
       "4  ComfortLiving Bluetooth Speaker  Electronics  300.68  "
      ]
     },
     "execution_count": 37,
     "metadata": {},
     "output_type": "execute_result"
    }
   ],
   "source": [
    "merged_df = merged_df.drop(columns=['Price_x', 'Price_y'])\n",
    "merged_df.head()\n"
   ]
  },
  {
   "cell_type": "code",
   "execution_count": 39,
   "id": "52fae866-97db-4c54-8ca1-32df12516e7a",
   "metadata": {},
   "outputs": [],
   "source": [
    "customer_features = merged_df.groupby('CustomerID').agg({\n",
    "    'TotalValue': 'sum',\n",
    "    'Quantity': 'sum',\n",
    "    'Price': 'mean'\n",
    "}).reset_index()"
   ]
  },
  {
   "cell_type": "code",
   "execution_count": 41,
   "id": "c291d5a3-439a-43c3-979f-58f315a76757",
   "metadata": {},
   "outputs": [],
   "source": [
    "customer_data = Customers_df.merge(customer_features, on=\"CustomerID\", how=\"left\").fillna(0)"
   ]
  },
  {
   "cell_type": "code",
   "execution_count": 43,
   "id": "004a09ef-6925-4459-92d1-e83ab06ac6a2",
   "metadata": {},
   "outputs": [],
   "source": [
    "from sklearn.metrics.pairwise import cosine_similarity\n",
    "from sklearn.preprocessing import StandardScaler, OneHotEncoder\n",
    "\n",
    "encoder = OneHotEncoder(sparse_output=False, drop='first')\n",
    "encoded_region = encoder.fit_transform(customer_data[['Region']])\n",
    "\n",
    "scaler = StandardScaler()\n",
    "numerical_features = scaler.fit_transform(customer_data[['TotalValue', 'Quantity', 'Price']])"
   ]
  },
  {
   "cell_type": "code",
   "execution_count": 45,
   "id": "7e92ece7-e8b7-4d76-b8d1-2def8ce0ba7d",
   "metadata": {},
   "outputs": [],
   "source": [
    "final_features = pd.concat([\n",
    "    pd.DataFrame(encoded_region, columns=encoder.get_feature_names_out(['Region'])),\n",
    "    pd.DataFrame(numerical_features, columns=['TotalValue', 'Quantity', 'Price'])\n",
    "], axis=1)"
   ]
  },
  {
   "cell_type": "code",
   "execution_count": 47,
   "id": "e1e7738a-91bc-455e-ad24-01dc8220767a",
   "metadata": {},
   "outputs": [],
   "source": [
    "similarity_matrix = cosine_similarity(final_features)"
   ]
  },
  {
   "cell_type": "code",
   "execution_count": 49,
   "id": "7ddfa322-60f0-4045-98be-a7fb93a02f30",
   "metadata": {},
   "outputs": [],
   "source": [
    "similarity_df = pd.DataFrame(similarity_matrix, index=customer_data['CustomerID'], columns=customer_data['CustomerID'])"
   ]
  },
  {
   "cell_type": "code",
   "execution_count": 51,
   "id": "63b74876-2e96-4dd6-a276-18518514851e",
   "metadata": {},
   "outputs": [],
   "source": [
    "lookalikes = {}\n",
    "for customer in customer_data['CustomerID'][:20]:\n",
    "    similar_customers = similarity_df[customer].sort_values(ascending=False).iloc[1:4]\n",
    "    lookalikes[customer] = [(sim_cust, round(score, 4)) for sim_cust, score in similar_customers.items()]"
   ]
  },
  {
   "cell_type": "code",
   "execution_count": 53,
   "id": "d241fe0b-efe5-4a5a-ac0d-86f0a8567704",
   "metadata": {},
   "outputs": [],
   "source": [
    "lookalike_list = [{'cust_id': cust, 'lookalikes': lookalikes[cust]} for cust in lookalikes]\n",
    "lookalike_df = pd.DataFrame(lookalike_list)"
   ]
  },
  {
   "cell_type": "code",
   "execution_count": 55,
   "id": "2fd112ab-a3f9-4d50-acf6-bf050d3ee556",
   "metadata": {},
   "outputs": [
    {
     "name": "stdout",
     "output_type": "stream",
     "text": [
      "Lookalike model results saved to 'Lookalike.csv'.\n"
     ]
    }
   ],
   "source": [
    "lookalike_df.to_csv('Lookalike.csv', index=False)\n",
    "\n",
    "print(\"Lookalike model results saved to 'Lookalike.csv'.\")"
   ]
  },
  {
   "cell_type": "code",
   "execution_count": null,
   "id": "63c1c63e-2c2f-49b0-9d4e-1bcc775b5087",
   "metadata": {},
   "outputs": [],
   "source": []
  }
 ],
 "metadata": {
  "kernelspec": {
   "display_name": "Python 3 (ipykernel)",
   "language": "python",
   "name": "python3"
  },
  "language_info": {
   "codemirror_mode": {
    "name": "ipython",
    "version": 3
   },
   "file_extension": ".py",
   "mimetype": "text/x-python",
   "name": "python",
   "nbconvert_exporter": "python",
   "pygments_lexer": "ipython3",
   "version": "3.12.7"
  }
 },
 "nbformat": 4,
 "nbformat_minor": 5
}
